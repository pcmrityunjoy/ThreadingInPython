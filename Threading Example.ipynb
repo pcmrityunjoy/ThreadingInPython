{
 "cells": [
  {
   "cell_type": "code",
   "execution_count": 23,
   "metadata": {},
   "outputs": [
    {
     "name": "stdout",
     "output_type": "stream",
     "text": [
      "This is the start of  First Process\n",
      "\n",
      "300\n",
      "\n",
      "Thread 2 : this is the start of Second Process\n",
      "\n",
      "300\n",
      "\n",
      "Thread 1 : After Sleep\n",
      "\n",
      "Thread 2 : After Sleep\n",
      "\n",
      "Last command\n"
     ]
    }
   ],
   "source": [
    "import threading\n",
    "import time\n",
    "\n",
    "def process1():\n",
    "    print('This is the start of  First Process\\n')\n",
    "    print(100*3)\n",
    "    time.sleep(5)\n",
    "    print('\\nThread 1 : After Sleep')\n",
    "\n",
    "\n",
    "def process2():\n",
    "    print('\\nThread 2 : this is the start of Second Process\\n')\n",
    "    print(100*3)\n",
    "    time.sleep(5)\n",
    "    print('\\nThread 2 : After Sleep')\n",
    "\n",
    "\n",
    "thrd1 = threading.Thread(target=process1)  #Creating thread - thrd1\n",
    "thrd2 = threading.Thread(target=process2)  #Creating thread - thrd2\n",
    "\n",
    "thrd1.start() #Start thread - thrd1\n",
    "thrd2.start() #Start thread - thrd2\n",
    "\n",
    "thrd1.join() # waiting for the thread - thrd1 to complete\n",
    "thrd2.join() # waiting for the thread - thrd1 to complete\n",
    "\n",
    "print('\\nLast command')\n",
    "\n",
    "\n",
    "\n"
   ]
  },
  {
   "cell_type": "code",
   "execution_count": 24,
   "metadata": {},
   "outputs": [
    {
     "name": "stdout",
     "output_type": "stream",
     "text": [
      "This is the start of  First Process\n",
      "\n",
      "300\n",
      "\n",
      "Thread 1 : After Sleep\n",
      "\n",
      "Thread 2 : this is the start of Second Process\n",
      "\n",
      "300\n",
      "\n",
      "Thread 2 : After Sleep\n",
      "\n",
      "Last command\n"
     ]
    }
   ],
   "source": [
    "def process_1():\n",
    "    print('This is the start of  First Process\\n')\n",
    "    print(100*3)\n",
    "    time.sleep(5)\n",
    "    print('\\nThread 1 : After Sleep')\n",
    "\n",
    "\n",
    "# In[14]:\n",
    "\n",
    "\n",
    "def process_2():\n",
    "    print('\\nThread 2 : this is the start of Second Process\\n')\n",
    "    print(100*3)\n",
    "    time.sleep(5)\n",
    "    print('\\nThread 2 : After Sleep')\n",
    "\n",
    "\n",
    "process_1()\n",
    "process_2()\n",
    "\n",
    "print('\\nLast command')"
   ]
  },
  {
   "cell_type": "code",
   "execution_count": null,
   "metadata": {},
   "outputs": [],
   "source": []
  }
 ],
 "metadata": {
  "kernelspec": {
   "display_name": "Python 3",
   "language": "python",
   "name": "python3"
  },
  "language_info": {
   "codemirror_mode": {
    "name": "ipython",
    "version": 3
   },
   "file_extension": ".py",
   "mimetype": "text/x-python",
   "name": "python",
   "nbconvert_exporter": "python",
   "pygments_lexer": "ipython3",
   "version": "3.7.1"
  }
 },
 "nbformat": 4,
 "nbformat_minor": 2
}
